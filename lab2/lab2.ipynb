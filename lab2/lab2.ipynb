{
 "cells": [
  {
   "cell_type": "code",
   "execution_count": 31,
   "metadata": {},
   "outputs": [],
   "source": [
    "import sympy as sp\n",
    "import matplotlib.pyplot as plt\n",
    "import numpy as np\n",
    "import scipy\n",
    "from IPython.display import display, Latex"
   ]
  },
  {
   "cell_type": "code",
   "execution_count": 2,
   "metadata": {},
   "outputs": [],
   "source": [
    "k1, k2, k3 = 1, 4, 1\n",
    "p1, p2, p3 = 2, 1.2, 1\n",
    "q1, q2, q3 = 1, 2, 1.5\n",
    "m1, m2, m3 = 2, 3, 3\n",
    "\n",
    "alpha1, alpha2 = 1.5, 1.1\n",
    "a, b = 0, 4\n",
    "n = 41 # 81, 201"
   ]
  },
  {
   "cell_type": "code",
   "execution_count": 3,
   "metadata": {},
   "outputs": [],
   "source": [
    "x = sp.symbols('x')\n",
    "f = sp.symbols('f', cls=sp.Function)(x)\n",
    "u = m1 * sp.cos(m2 * x) + m3\n",
    "k = k1 * sp.cos(k2 * x) + k3\n",
    "q = q1 * sp.sin(q2 * x) + q3"
   ]
  },
  {
   "cell_type": "code",
   "execution_count": 4,
   "metadata": {},
   "outputs": [],
   "source": [
    "eq0 = -sp.diff(k*sp.diff(f, x), x) + q * f\n",
    "eq1 = (-k * sp.diff(u, x) + alpha1 * u)\n",
    "eq2 = (k * sp.diff(u, x) + alpha2 * u)"
   ]
  },
  {
   "cell_type": "code",
   "execution_count": 5,
   "metadata": {},
   "outputs": [
    {
     "data": {
      "text/latex": [
       "$\\displaystyle \\left(\\sin{\\left(2 x \\right)} + 1.5\\right) \\left(2 \\cos{\\left(3 x \\right)} + 3\\right) + 18 \\left(\\cos{\\left(4 x \\right)} + 1\\right) \\cos{\\left(3 x \\right)} - 24 \\sin{\\left(3 x \\right)} \\sin{\\left(4 x \\right)}$"
      ],
      "text/plain": [
       "(sin(2*x) + 1.5)*(2*cos(3*x) + 3) + 18*(cos(4*x) + 1)*cos(3*x) - 24*sin(3*x)*sin(4*x)"
      ]
     },
     "execution_count": 5,
     "metadata": {},
     "output_type": "execute_result"
    }
   ],
   "source": [
    "f1 = eq0.subs({f:u}).simplify()\n",
    "f1"
   ]
  },
  {
   "cell_type": "code",
   "execution_count": 6,
   "metadata": {},
   "outputs": [
    {
     "data": {
      "text/latex": [
       "$\\displaystyle 6 \\left(\\cos{\\left(4 x \\right)} + 1\\right) \\sin{\\left(3 x \\right)} + 3.0 \\cos{\\left(3 x \\right)} + 4.5$"
      ],
      "text/plain": [
       "6*(cos(4*x) + 1)*sin(3*x) + 3.0*cos(3*x) + 4.5"
      ]
     },
     "execution_count": 6,
     "metadata": {},
     "output_type": "execute_result"
    }
   ],
   "source": [
    "C1 = eq1.subs({f:u}).simplify()\n",
    "C1"
   ]
  },
  {
   "cell_type": "code",
   "execution_count": 7,
   "metadata": {},
   "outputs": [
    {
     "data": {
      "text/latex": [
       "$\\displaystyle - 6 \\left(\\cos{\\left(4 x \\right)} + 1\\right) \\sin{\\left(3 x \\right)} + 2.2 \\cos{\\left(3 x \\right)} + 3.3$"
      ],
      "text/plain": [
       "-6*(cos(4*x) + 1)*sin(3*x) + 2.2*cos(3*x) + 3.3"
      ]
     },
     "execution_count": 7,
     "metadata": {},
     "output_type": "execute_result"
    }
   ],
   "source": [
    "C2 = eq2.subs({f:u}).simplify()\n",
    "C2"
   ]
  },
  {
   "cell_type": "code",
   "execution_count": 8,
   "metadata": {},
   "outputs": [
    {
     "data": {
      "text/latex": [
       "$\\displaystyle 7.5$"
      ],
      "text/plain": [
       "7.50000000000000"
      ]
     },
     "execution_count": 8,
     "metadata": {},
     "output_type": "execute_result"
    }
   ],
   "source": [
    "mu1 = sp.simplify(eq1.subs({u:u}).subs({x:a}))\n",
    "mu1"
   ]
  },
  {
   "cell_type": "code",
   "execution_count": 9,
   "metadata": {},
   "outputs": [
    {
     "data": {
      "text/latex": [
       "$\\displaystyle 5.2927913663667$"
      ],
      "text/plain": [
       "5.29279136636670"
      ]
     },
     "execution_count": 9,
     "metadata": {},
     "output_type": "execute_result"
    }
   ],
   "source": [
    "mu2 = sp.simplify(eq2.subs({u:u}).subs({x:b})).evalf()\n",
    "mu2"
   ]
  },
  {
   "cell_type": "code",
   "execution_count": 10,
   "metadata": {},
   "outputs": [],
   "source": [
    "X = np.linspace(start=a, stop=b, num=n + 1)\n",
    "h = (b - a) * 1.0 / n"
   ]
  },
  {
   "cell_type": "code",
   "execution_count": 11,
   "metadata": {},
   "outputs": [
    {
     "data": {
      "text/latex": [
       "$\\displaystyle 17.510104442331$"
      ],
      "text/plain": [
       "17.5101044423310"
      ]
     },
     "execution_count": 11,
     "metadata": {},
     "output_type": "execute_result"
    }
   ],
   "source": [
    "sp.Integral(f1, (x, a, b)).doit().evalf()"
   ]
  },
  {
   "cell_type": "code",
   "execution_count": 12,
   "metadata": {},
   "outputs": [],
   "source": [
    "A = np.array([h / sp.integrate( 1 / k, (x, X[i], X[i+1])).evalf() for i in range(n)])"
   ]
  },
  {
   "cell_type": "code",
   "execution_count": 13,
   "metadata": {},
   "outputs": [
    {
     "data": {
      "text/plain": [
       "42"
      ]
     },
     "execution_count": 13,
     "metadata": {},
     "output_type": "execute_result"
    }
   ],
   "source": [
    "d0 =2 / h * sp.integrate(q, (x, a, a + h / 2)).evalf()\n",
    "D = np.array(\n",
    "    [1 / h * sp.integrate(q, (x, X[i] + h / 2, X[i+1] - h / 2)).evalf() for i in range(n)] + [2 / h * sp.integrate(q, (x, b - h / 2, b)).evalf()])\n",
    "len(D)"
   ]
  },
  {
   "cell_type": "code",
   "execution_count": 14,
   "metadata": {},
   "outputs": [],
   "source": [
    "phi_0 = 2 / h * sp.integrate(f1, (x, a, a + h / 2)).evalf()\n",
    "Phi = np.array(\n",
    "    [1 / h * sp.integrate(f1, (x, X[i] + h / 2, X[i+1] - h / 2)).evalf() for i in range(n)] + [2 / h * sp.integrate(f1, (x, b - h / 2, b)).evalf()])"
   ]
  },
  {
   "cell_type": "code",
   "execution_count": 15,
   "metadata": {},
   "outputs": [],
   "source": [
    "alpha_ = alpha1 + h / 2 * d0\n",
    "mu_ = mu1 + h / 2 * phi_0"
   ]
  },
  {
   "cell_type": "code",
   "execution_count": 16,
   "metadata": {},
   "outputs": [],
   "source": [
    "AA = np.zeros((n + 1, n + 1))\n",
    "BB = np.zeros(n + 1)"
   ]
  },
  {
   "cell_type": "code",
   "execution_count": 17,
   "metadata": {},
   "outputs": [],
   "source": [
    "AA[0][0] = A[0] / h + alpha_\n",
    "AA[0][1] = -A[0] / h\n",
    "BB[0] = mu_"
   ]
  },
  {
   "cell_type": "code",
   "execution_count": 18,
   "metadata": {},
   "outputs": [],
   "source": [
    "for i in range(1, n):\n",
    "    AA[i][i - 1] = A[i] / h + D[i - 1]\n",
    "    AA[i][i] = -A[i] / h\n",
    "BB[i] = Phi[i - 1]"
   ]
  },
  {
   "cell_type": "code",
   "execution_count": 28,
   "metadata": {},
   "outputs": [],
   "source": [
    "alpha2_ = alpha2 + h / 2 * D[n]\n",
    "mu2_ = mu2 + h / 2 * Phi[n]\n",
    "\n",
    "AA[n][n - 1] = -A[n-1] / h + D[n] + alpha2_\n",
    "AA[n][n] = A[n-1] / h\n",
    "BB[n] = mu2_"
   ]
  },
  {
   "cell_type": "code",
   "execution_count": 32,
   "metadata": {},
   "outputs": [],
   "source": [
    "Yi = scipy.linalg.solve(np.array(AA), np.array(BB))"
   ]
  },
  {
   "cell_type": "code",
   "execution_count": 36,
   "metadata": {},
   "outputs": [
    {
     "data": {
      "text/plain": [
       "[<matplotlib.lines.Line2D at 0x23921f43cd0>]"
      ]
     },
     "execution_count": 36,
     "metadata": {},
     "output_type": "execute_result"
    },
    {
     "data": {
      "image/png": "[encoded data removed]",
      "text/plain": [
       "<Figure size 640x480 with 1 Axes>"
      ]
     },
     "metadata": {},
     "output_type": "display_data"
    }
   ],
   "source": [
    "plt.plot(X, [u.subs({x:xi}) for xi in X], label='u(x)')"
   ]
  }
 ],
 "metadata": {
  "kernelspec": {
   "display_name": "base",
   "language": "python",
   "name": "python3"
  },
  "language_info": {
   "codemirror_mode": {
    "name": "ipython",
    "version": 3
   },
   "file_extension": ".py",
   "mimetype": "text/x-python",
   "name": "python",
   "nbconvert_exporter": "python",
   "pygments_lexer": "ipython3",
   "version": "3.11.4"
  }
 },
 "nbformat": 4,
 "nbformat_minor": 2
}
