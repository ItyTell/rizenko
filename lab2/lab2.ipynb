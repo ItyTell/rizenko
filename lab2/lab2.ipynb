{
 "cells": [
  {
   "cell_type": "code",
   "execution_count": 80,
   "metadata": {},
   "outputs": [],
   "source": [
    "import sympy as sp\n",
    "import matplotlib.pyplot as plt\n",
    "import numpy as np\n",
    "import scipy\n",
    "from IPython.display import display, Latex"
   ]
  },
  {
   "cell_type": "code",
   "execution_count": 81,
   "metadata": {},
   "outputs": [],
   "source": [
    "k1, k2, k3 = 1, 4, 1\n",
    "p1, p2, p3 = 2, 1.2, 1\n",
    "q1, q2, q3 = 1, 2, 1.5\n",
    "m1, m2, m3 = 2, 3, 3\n",
    "\n",
    "alpha1, alpha2 = 1.5, 1.1\n",
    "a, b = 0, 1\n",
    "n = 201 #41  81, 201"
   ]
  },
  {
   "cell_type": "code",
   "execution_count": 82,
   "metadata": {},
   "outputs": [],
   "source": [
    "x = sp.symbols('x')\n",
    "f = sp.symbols('f', cls=sp.Function)(x)\n",
    "u = m1 * sp.cos(m2 * x) + m3\n",
    "k = k1 * sp.cos(k2 * x) + k3\n",
    "q = q1 * sp.sin(q2 * x) + q3"
   ]
  },
  {
   "cell_type": "code",
   "execution_count": 83,
   "metadata": {},
   "outputs": [],
   "source": [
    "eq0 = -sp.diff(k*sp.diff(f, x), x) + q * f\n",
    "eq1 = (-k * sp.diff(u, x) + alpha1 * u)\n",
    "eq2 = (k * sp.diff(u, x) + alpha2 * u)"
   ]
  },
  {
   "cell_type": "code",
   "execution_count": 84,
   "metadata": {},
   "outputs": [
    {
     "data": {
      "text/latex": [
       "$\\displaystyle \\left(\\sin{\\left(2 x \\right)} + 1.5\\right) \\left(2 \\cos{\\left(3 x \\right)} + 3\\right) + 18 \\left(\\cos{\\left(4 x \\right)} + 1\\right) \\cos{\\left(3 x \\right)} - 24 \\sin{\\left(3 x \\right)} \\sin{\\left(4 x \\right)}$"
      ],
      "text/plain": [
       "(sin(2*x) + 1.5)*(2*cos(3*x) + 3) + 18*(cos(4*x) + 1)*cos(3*x) - 24*sin(3*x)*sin(4*x)"
      ]
     },
     "execution_count": 84,
     "metadata": {},
     "output_type": "execute_result"
    }
   ],
   "source": [
    "f1 = eq0.subs({f:u}).simplify()\n",
    "f1"
   ]
  },
  {
   "cell_type": "code",
   "execution_count": 85,
   "metadata": {},
   "outputs": [
    {
     "data": {
      "text/latex": [
       "$\\displaystyle 6 \\left(\\cos{\\left(4 x \\right)} + 1\\right) \\sin{\\left(3 x \\right)} + 3.0 \\cos{\\left(3 x \\right)} + 4.5$"
      ],
      "text/plain": [
       "6*(cos(4*x) + 1)*sin(3*x) + 3.0*cos(3*x) + 4.5"
      ]
     },
     "execution_count": 85,
     "metadata": {},
     "output_type": "execute_result"
    }
   ],
   "source": [
    "C1 = eq1.subs({f:u}).simplify()\n",
    "C1"
   ]
  },
  {
   "cell_type": "code",
   "execution_count": 86,
   "metadata": {},
   "outputs": [
    {
     "data": {
      "text/latex": [
       "$\\displaystyle - 6 \\left(\\cos{\\left(4 x \\right)} + 1\\right) \\sin{\\left(3 x \\right)} + 2.2 \\cos{\\left(3 x \\right)} + 3.3$"
      ],
      "text/plain": [
       "-6*(cos(4*x) + 1)*sin(3*x) + 2.2*cos(3*x) + 3.3"
      ]
     },
     "execution_count": 86,
     "metadata": {},
     "output_type": "execute_result"
    }
   ],
   "source": [
    "C2 = eq2.subs({f:u}).simplify()\n",
    "C2"
   ]
  },
  {
   "cell_type": "code",
   "execution_count": 87,
   "metadata": {},
   "outputs": [
    {
     "data": {
      "text/latex": [
       "$\\displaystyle 7.5$"
      ],
      "text/plain": [
       "7.50000000000000"
      ]
     },
     "execution_count": 87,
     "metadata": {},
     "output_type": "execute_result"
    }
   ],
   "source": [
    "mu1 = sp.simplify(eq1.subs({u:u}).subs({x:a}))\n",
    "mu1"
   ]
  },
  {
   "cell_type": "code",
   "execution_count": 88,
   "metadata": {},
   "outputs": [
    {
     "data": {
      "text/latex": [
       "$\\displaystyle 0.828749617387139$"
      ],
      "text/plain": [
       "0.828749617387139"
      ]
     },
     "execution_count": 88,
     "metadata": {},
     "output_type": "execute_result"
    }
   ],
   "source": [
    "mu2 = sp.simplify(eq2.subs({u:u}).subs({x:b})).evalf()\n",
    "mu2"
   ]
  },
  {
   "cell_type": "code",
   "execution_count": 89,
   "metadata": {},
   "outputs": [],
   "source": [
    "h = (b - a) * 1.0 / n\n",
    "X = np.linspace(start=a, stop=b + h, num=n + 2)"
   ]
  },
  {
   "cell_type": "code",
   "execution_count": 90,
   "metadata": {},
   "outputs": [],
   "source": [
    "A = np.array([h / sp.integrate( 1 / k, (x, X[i], X[i+1])).evalf() for i in range(n + 1)])"
   ]
  },
  {
   "cell_type": "code",
   "execution_count": 91,
   "metadata": {},
   "outputs": [],
   "source": [
    "D = np.array(\n",
    "    [2 / h * sp.integrate(q, (x, a, a + h / 2)).evalf()] + \n",
    "    [1 / h * sp.integrate(q, (x, X[i + 1] - h / 2, X[i+1] + h / 2)).evalf() for i in range(n + 1)] \n",
    "    + [2 / h * sp.integrate(q, (x, b - h / 2, b)).evalf()])"
   ]
  },
  {
   "cell_type": "code",
   "execution_count": 92,
   "metadata": {},
   "outputs": [],
   "source": [
    "Phi = np.array(\n",
    "    [2 / h * sp.integrate(f1, (x, a, a + h / 2)).evalf()] +\n",
    "    [1 / h * sp.integrate(f1, (x, X[i + 1] - h / 2, X[i+1] + h / 2)).evalf() for i in range(n + 1)] + \n",
    "    [2 / h * sp.integrate(f1, (x, b - h / 2, b)).evalf()])"
   ]
  },
  {
   "cell_type": "code",
   "execution_count": 93,
   "metadata": {},
   "outputs": [],
   "source": [
    "AA = np.zeros((n + 1, n + 1))\n",
    "BB = np.zeros(n + 1)"
   ]
  },
  {
   "cell_type": "code",
   "execution_count": 94,
   "metadata": {},
   "outputs": [],
   "source": [
    "alpha1_ = alpha1 + h / 2 * D[0]\n",
    "mu1_ = mu1 + h / 2 * Phi[0]\n",
    "AA[0][0] = A[0] / h + alpha1_\n",
    "AA[0][1] = -A[0] / h\n",
    "BB[0] = mu1_"
   ]
  },
  {
   "cell_type": "code",
   "execution_count": 95,
   "metadata": {},
   "outputs": [],
   "source": [
    "for i in range(1, n):\n",
    "    AA[i][i - 1] = -A[i] / h ** 2\n",
    "    AA[i][i] = (A[i+1] + A[i]) / h ** 2 + D[i]\n",
    "    AA[i][i + 1] = -A[i + 1] / h ** 2\n",
    "    BB[i] = Phi[i]"
   ]
  },
  {
   "cell_type": "code",
   "execution_count": 96,
   "metadata": {},
   "outputs": [],
   "source": [
    "alpha2_ = alpha2 + h / 2 * D[-1]\n",
    "mu2_ = mu2 + h / 2 * Phi[-1]\n",
    "\n",
    "AA[n][n - 1] = -A[-1] / h + alpha2_\n",
    "AA[n][n] = A[-1] / h\n",
    "BB[n] = mu2_"
   ]
  },
  {
   "cell_type": "code",
   "execution_count": 97,
   "metadata": {},
   "outputs": [],
   "source": [
    "Yi = scipy.linalg.solve(np.array(AA), np.array(BB))"
   ]
  },
  {
   "cell_type": "code",
   "execution_count": 98,
   "metadata": {},
   "outputs": [
    {
     "data": {
      "text/plain": [
       "[<matplotlib.lines.Line2D at 0x21ca4a35a10>]"
      ]
     },
     "execution_count": 98,
     "metadata": {},
     "output_type": "execute_result"
    },
    {
     "data": {
      "image/png": "[encoded data removed]",
      "text/plain": [
       "<Figure size 640x480 with 1 Axes>"
      ]
     },
     "metadata": {},
     "output_type": "display_data"
    }
   ],
   "source": [
    "plt.plot(X[:n], [u.subs({x:xi}) for xi in X[:n]], label='u(x)')\n",
    "plt.plot(X[:n], Yi[:n], label='ui(x)')"
   ]
  }
 ],
 "metadata": {
  "kernelspec": {
   "display_name": "base",
   "language": "python",
   "name": "python3"
  },
  "language_info": {
   "codemirror_mode": {
    "name": "ipython",
    "version": 3
   },
   "file_extension": ".py",
   "mimetype": "text/x-python",
   "name": "python",
   "nbconvert_exporter": "python",
   "pygments_lexer": "ipython3",
   "version": "3.11.4"
  }
 },
 "nbformat": 4,
 "nbformat_minor": 2
}
