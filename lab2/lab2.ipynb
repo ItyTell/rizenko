{
 "cells": [
  {
   "cell_type": "code",
   "execution_count": 1,
   "metadata": {},
   "outputs": [],
   "source": [
    "import sympy as sp\n",
    "import matplotlib.pyplot as plt\n",
    "import numpy as np\n",
    "from IPython.display import display, Latex"
   ]
  },
  {
   "cell_type": "code",
   "execution_count": 30,
   "metadata": {},
   "outputs": [],
   "source": [
    "k1, k2, k3 = 1, 4, 1\n",
    "p1, p2, p3 = 2, 1.2, 1\n",
    "q1, q2, q3 = 1, 2, 1.5\n",
    "m1, m2, m3 = 2, 3, 3\n",
    "\n",
    "alpha1, alpha2 = 1.5, 1.1\n",
    "a, b = 0, 4\n",
    "n = 41 # 81, 201"
   ]
  },
  {
   "cell_type": "code",
   "execution_count": 21,
   "metadata": {},
   "outputs": [],
   "source": [
    "x = sp.symbols('x')\n",
    "f = sp.symbols('f', cls=sp.Function)(x)\n",
    "u = m1 * sp.cos(m2 * x) + m3\n",
    "k = k1 * sp.cos(k2 * x) + k3\n",
    "p = p1 * sp.sin(p2 * x) + p3\n",
    "q = q1 * sp.sin(q2 * x) + q3"
   ]
  },
  {
   "cell_type": "code",
   "execution_count": 22,
   "metadata": {},
   "outputs": [],
   "source": [
    "eq0 = -sp.diff(k*sp.diff(f, x), x) + p * sp.diff(f, x) + q * f\n",
    "eq1 = (-k * sp.diff(u, x) + alpha1 * u)\n",
    "eq2 = (k * sp.diff(u, x) + alpha2 * u)"
   ]
  },
  {
   "cell_type": "code",
   "execution_count": 26,
   "metadata": {},
   "outputs": [
    {
     "data": {
      "text/latex": [
       "$\\displaystyle - 6 \\cdot \\left(2 \\sin{\\left(1.2 x \\right)} + 1\\right) \\sin{\\left(3 x \\right)} + \\left(\\sin{\\left(2 x \\right)} + 1.5\\right) \\left(2 \\cos{\\left(3 x \\right)} + 3\\right) + 18 \\left(\\cos{\\left(4 x \\right)} + 1\\right) \\cos{\\left(3 x \\right)} - 24 \\sin{\\left(3 x \\right)} \\sin{\\left(4 x \\right)}$"
      ],
      "text/plain": [
       "-6*(2*sin(1.2*x) + 1)*sin(3*x) + (sin(2*x) + 1.5)*(2*cos(3*x) + 3) + 18*(cos(4*x) + 1)*cos(3*x) - 24*sin(3*x)*sin(4*x)"
      ]
     },
     "execution_count": 26,
     "metadata": {},
     "output_type": "execute_result"
    }
   ],
   "source": [
    "f1 = eq0.subs({f:u}).simplify()\n",
    "f1"
   ]
  },
  {
   "cell_type": "code",
   "execution_count": 28,
   "metadata": {},
   "outputs": [
    {
     "data": {
      "text/latex": [
       "$\\displaystyle 6 \\left(\\cos{\\left(4 x \\right)} + 1\\right) \\sin{\\left(3 x \\right)} + 3.0 \\cos{\\left(3 x \\right)} + 4.5$"
      ],
      "text/plain": [
       "6*(cos(4*x) + 1)*sin(3*x) + 3.0*cos(3*x) + 4.5"
      ]
     },
     "execution_count": 28,
     "metadata": {},
     "output_type": "execute_result"
    }
   ],
   "source": [
    "C1 = eq1.subs({f:u}).simplify()\n",
    "C1"
   ]
  },
  {
   "cell_type": "code",
   "execution_count": 29,
   "metadata": {},
   "outputs": [
    {
     "data": {
      "text/latex": [
       "$\\displaystyle - 6 \\left(\\cos{\\left(4 x \\right)} + 1\\right) \\sin{\\left(3 x \\right)} + 2.2 \\cos{\\left(3 x \\right)} + 3.3$"
      ],
      "text/plain": [
       "-6*(cos(4*x) + 1)*sin(3*x) + 2.2*cos(3*x) + 3.3"
      ]
     },
     "execution_count": 29,
     "metadata": {},
     "output_type": "execute_result"
    }
   ],
   "source": [
    "C2 = eq2.subs({f:u}).simplify()\n",
    "C2"
   ]
  },
  {
   "cell_type": "code",
   "execution_count": 35,
   "metadata": {},
   "outputs": [
    {
     "data": {
      "text/latex": [
       "$\\displaystyle 7.5$"
      ],
      "text/plain": [
       "7.50000000000000"
      ]
     },
     "execution_count": 35,
     "metadata": {},
     "output_type": "execute_result"
    }
   ],
   "source": [
    "mu1 = sp.simplify(eq1.subs({u:u}).subs({x:a}))\n",
    "mu1"
   ]
  },
  {
   "cell_type": "code",
   "execution_count": 34,
   "metadata": {},
   "outputs": [
    {
     "data": {
      "text/latex": [
       "$\\displaystyle 5.2927913663667$"
      ],
      "text/plain": [
       "5.29279136636670"
      ]
     },
     "execution_count": 34,
     "metadata": {},
     "output_type": "execute_result"
    }
   ],
   "source": [
    "mu2 = sp.simplify(eq2.subs({u:u}).subs({x:b})).evalf()\n",
    "mu2"
   ]
  },
  {
   "cell_type": "code",
   "execution_count": 36,
   "metadata": {},
   "outputs": [],
   "source": [
    "X = np.linspace(start=a, stop=b, num=n + 1)\n",
    "h = (b - a) * 1.0 / n"
   ]
  },
  {
   "cell_type": "code",
   "execution_count": 40,
   "metadata": {},
   "outputs": [
    {
     "data": {
      "text/latex": [
       "$\\displaystyle 13.2842999085157$"
      ],
      "text/plain": [
       "13.2842999085157"
      ]
     },
     "execution_count": 40,
     "metadata": {},
     "output_type": "execute_result"
    }
   ],
   "source": [
    "sp.Integral(f1, (x, a, b)).doit().evalf()"
   ]
  },
  {
   "cell_type": "code",
   "execution_count": null,
   "metadata": {},
   "outputs": [],
   "source": []
  }
 ],
 "metadata": {
  "kernelspec": {
   "display_name": "base",
   "language": "python",
   "name": "python3"
  },
  "language_info": {
   "codemirror_mode": {
    "name": "ipython",
    "version": 3
   },
   "file_extension": ".py",
   "mimetype": "text/x-python",
   "name": "python",
   "nbconvert_exporter": "python",
   "pygments_lexer": "ipython3",
   "version": "3.11.4"
  }
 },
 "nbformat": 4,
 "nbformat_minor": 2
}
