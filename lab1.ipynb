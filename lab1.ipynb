{
 "cells": [
  {
   "cell_type": "code",
   "execution_count": 104,
   "metadata": {},
   "outputs": [],
   "source": [
    "import sympy as sp\n",
    "import matplotlib.pyplot as plt\n",
    "import numpy as np\n",
    "from IPython.display import display, Latex"
   ]
  },
  {
   "cell_type": "code",
   "execution_count": 105,
   "metadata": {},
   "outputs": [],
   "source": [
    "k1 = 1\n",
    "k2 = 4\n",
    "k3 = 1\n",
    "p1 = 2\n",
    "p2 = 1.2\n",
    "p3 = 1\n",
    "q1 = 1\n",
    "q2 = 2\n",
    "q3 = 1.5\n",
    "\n",
    "alpha1 = 1.5\n",
    "alpha2 = 1.1\n",
    "\n",
    "a = 0\n",
    "b = 4\n",
    "\n",
    "m1 = 2\n",
    "m2 = 3\n",
    "m3 = 3\n",
    "\n",
    "n = 18 #12 15-18"
   ]
  },
  {
   "cell_type": "code",
   "execution_count": 106,
   "metadata": {},
   "outputs": [],
   "source": [
    "x = sp.Symbol('x')\n",
    "u = sp.Function('u')(x)"
   ]
  },
  {
   "cell_type": "code",
   "execution_count": 107,
   "metadata": {},
   "outputs": [],
   "source": [
    "k = k1 * x ** k2 + k3\n",
    "p = p1 * sp.sin(p2*x) + p3\n",
    "q = q1 * sp.cos(q2*x) + q3"
   ]
  },
  {
   "cell_type": "code",
   "execution_count": 108,
   "metadata": {},
   "outputs": [],
   "source": [
    "eq0 = -sp.diff(k*sp.diff(u, x), x) + p * sp.diff(u, x) + q * u \n",
    "eq1 = (-k * sp.diff(u, x) + alpha1 * u)\n",
    "eq2 = (k * sp.diff(u, x) + alpha2 * u)"
   ]
  },
  {
   "cell_type": "code",
   "execution_count": 109,
   "metadata": {},
   "outputs": [],
   "source": [
    "u1 = m1 * sp.sin(m2*x) +m3"
   ]
  },
  {
   "cell_type": "code",
   "execution_count": 110,
   "metadata": {},
   "outputs": [
    {
     "name": "stdout",
     "output_type": "stream",
     "text": [
      "-24*x**3*cos(3*x) + 18*(x**4 + 1)*sin(3*x) + 6*(2*sin(1.2*x) + 1)*cos(3*x) + (2*sin(3*x) + 3)*(cos(2*x) + 1.5)\n"
     ]
    }
   ],
   "source": [
    "f = sp.simplify(eq0.subs({u:u1}))\n",
    "print(f)"
   ]
  },
  {
   "cell_type": "code",
   "execution_count": 111,
   "metadata": {},
   "outputs": [
    {
     "data": {
      "text/latex": [
       "$\\displaystyle -1.5$"
      ],
      "text/plain": [
       "-1.50000000000000"
      ]
     },
     "execution_count": 111,
     "metadata": {},
     "output_type": "execute_result"
    }
   ],
   "source": [
    "mu1 = sp.simplify(eq1.subs({u:u1}).subs({x:a}))\n",
    "mu1"
   ]
  },
  {
   "cell_type": "code",
   "execution_count": 112,
   "metadata": {},
   "outputs": [
    {
     "data": {
      "text/latex": [
       "$\\displaystyle 1.3 \\cdot 10^{3}$"
      ],
      "text/plain": [
       "1.3e+3"
      ]
     },
     "execution_count": 112,
     "metadata": {},
     "output_type": "execute_result"
    }
   ],
   "source": [
    "mu2 = sp.simplify(eq2.subs({u:u1}).subs({x:b})).evalf(2)\n",
    "mu2"
   ]
  },
  {
   "cell_type": "code",
   "execution_count": 113,
   "metadata": {},
   "outputs": [
    {
     "data": {
      "text/latex": [
       "$\\displaystyle 4.97881108473682 x + 2.31920738982455$"
      ],
      "text/plain": [
       "4.97881108473682*x + 2.31920738982455"
      ]
     },
     "execution_count": 113,
     "metadata": {},
     "output_type": "execute_result"
    }
   ],
   "source": [
    "r = sp.Symbol(\"r\")\n",
    "l = sp.Symbol(\"l\")\n",
    "v = r * x + l\n",
    "v = v.subs(sp.solve([sp.Eq(sp.simplify(eq1.subs({u:v, x:a})), mu1), sp.Eq(sp.simplify(eq2.subs({u:v, x:b})), mu2)]))\n",
    "v"
   ]
  },
  {
   "cell_type": "code",
   "execution_count": 114,
   "metadata": {},
   "outputs": [
    {
     "data": {
      "text/latex": [
       "$\\displaystyle - 24 x^{3} \\cos{\\left(3 x \\right)} + 19.9152443389473 x^{3} - \\left(4.97881108473682 x + 2.31920738982455\\right) \\left(\\cos{\\left(2 x \\right)} + 1.5\\right) + 18 \\left(x^{4} + 1\\right) \\sin{\\left(3 x \\right)} + 6 \\cdot \\left(2 \\sin{\\left(1.2 x \\right)} + 1\\right) \\cos{\\left(3 x \\right)} + \\left(2 \\sin{\\left(3 x \\right)} + 3\\right) \\left(\\cos{\\left(2 x \\right)} + 1.5\\right) - 9.95762216947364 \\sin{\\left(1.2 x \\right)} - 4.97881108473682$"
      ],
      "text/plain": [
       "-24*x**3*cos(3*x) + 19.9152443389473*x**3 - (4.97881108473682*x + 2.31920738982455)*(cos(2*x) + 1.5) + 18*(x**4 + 1)*sin(3*x) + 6*(2*sin(1.2*x) + 1)*cos(3*x) + (2*sin(3*x) + 3)*(cos(2*x) + 1.5) - 9.95762216947364*sin(1.2*x) - 4.97881108473682"
      ]
     },
     "execution_count": 114,
     "metadata": {},
     "output_type": "execute_result"
    }
   ],
   "source": [
    "f1 = sp.simplify(f - eq0.subs({u:v}))\n",
    "f1"
   ]
  },
  {
   "cell_type": "code",
   "execution_count": 115,
   "metadata": {},
   "outputs": [],
   "source": [
    "C = sp.Symbol(\"C\")\n",
    "D = sp.Symbol(\"D\")\n",
    "phi1 = (x - a)**2 * (x - C)\n",
    "phi2 = (x - D) * (b - x)**2"
   ]
  },
  {
   "cell_type": "code",
   "execution_count": 116,
   "metadata": {},
   "outputs": [
    {
     "data": {
      "text/plain": [
       "{D: -0.500000000000000, C: 5.98302469135802}"
      ]
     },
     "execution_count": 116,
     "metadata": {},
     "output_type": "execute_result"
    }
   ],
   "source": [
    "temp = sp.solve([sp.simplify(eq1.subs({u: phi2, x: a})).evalf(),\n",
    "                    sp.simplify(eq2.subs({u: phi1, x: b})).evalf()],\n",
    "                [C, D])\n",
    "\n",
    "temp"
   ]
  },
  {
   "cell_type": "code",
   "execution_count": 117,
   "metadata": {},
   "outputs": [],
   "source": [
    "def integrate_sum(integrate, x, a, b):\n",
    "    steps = 100\n",
    "    res = 0\n",
    "    step = (b-a) / steps\n",
    "    arg = a\n",
    "    for i in range(steps):\n",
    "        arg += step\n",
    "        res += step * integrate.subs({x: arg})\n",
    "    return res\n",
    "\n",
    "\n",
    "def A(expr: sp.Expr, x, k, p, q): return -(k*expr.diff(x)).diff(x) + p*expr.diff(x) + q*expr"
   ]
  },
  {
   "cell_type": "code",
   "execution_count": 118,
   "metadata": {},
   "outputs": [],
   "source": [
    "phi1 = phi1.subs(C, temp[C]).evalf()\n",
    "phi2 = phi2.subs(D, temp[D]).evalf()\n",
    "\n",
    "phin = [v, phi1, phi2]\n",
    "for i in range(3, n+1):\n",
    "    phin.append( ((x-a)**2) * ((b-x)**(i-1)))\n",
    "\n",
    "left_matrix_bg = sp.Matrix(n, n, lambda i,j: integrate_sum(A(phin[j+1], x, k, p, q) * phin[i+1], x, a, b).evalf())\n",
    "right_bg = sp.Matrix(n, 1, lambda i,j: integrate_sum(f1 * phin[i+1], x, a, b).evalf())\n",
    "\n",
    "ci_bg = left_matrix_bg.LUsolve(right_bg)\n",
    "\n",
    "left_matrix_nk = sp.Matrix(n, n,\n",
    "                        lambda i, j: integrate_sum(A(phin[j + 1], x, k, p, q) *\n",
    "                                                    A(phin[i + 1], x, k, p, q),\n",
    "                                                    x, a, b).evalf())\n",
    "right_nk = sp.Matrix(n, 1,\n",
    "                            lambda i, j: integrate_sum(f1 * A(phin[i + 1], x, k, p, q),\n",
    "                                                            x, a, b).evalf())\n",
    "\n",
    "ci_nk = left_matrix_nk.LUsolve(right_nk)\n",
    "\n",
    "result_bg = sum([phin[0]] + [ci_bg[i]*phin[i+1] for i in range(n)]).simplify()\n",
    "result_nk = sum([phin[0]] + [ci_nk[i]*phin[i+1] for i in range(n)]).simplify()\n",
    "\n"
   ]
  },
  {
   "cell_type": "code",
   "execution_count": 119,
   "metadata": {},
   "outputs": [],
   "source": [
    "result_bg = sum([phin[0]] + [ci_bg[i]*phin[i+1] for i in range(n)]).simplify()\n",
    "result_nk = sum([phin[0]] + [ci_nk[i]*phin[i+1] for i in range(n)]).simplify()"
   ]
  },
  {
   "cell_type": "code",
   "execution_count": 120,
   "metadata": {},
   "outputs": [
    {
     "name": "stdout",
     "output_type": "stream",
     "text": [
      "Точність Бубнова-Гальоркiна:  0.130474754699441\n",
      "Точність найменших квадратiв:  0.130665826927988\n"
     ]
    }
   ],
   "source": [
    "print(\"Точність Бубнова-Гальоркiна: \", sp.sqrt(integrate_sum((u1-result_bg) ** 2, x, a, b)).evalf())\n",
    "print(\"Точність найменших квадратiв: \", sp.sqrt(integrate_sum((u1-result_nk) ** 2, x, a, b)).evalf())"
   ]
  },
  {
   "cell_type": "code",
   "execution_count": 121,
   "metadata": {},
   "outputs": [
    {
     "data": {
      "image/png": "[encoded data removed]",
      "text/plain": [
       "<Figure size 640x480 with 1 Axes>"
      ]
     },
     "metadata": {},
     "output_type": "display_data"
    }
   ],
   "source": [
    "x_test = np.arange(a, b, 0.01)\n",
    "y_bubnova = np.vectorize(lambda x_some: result_bg.subs(x, x_some))(x_test)\n",
    "y_kvadr = np.vectorize(lambda x_some: result_nk.subs(x, x_some))(x_test)\n",
    "y_real = np.vectorize(lambda x_some: u1.subs(x, x_some))(x_test)\n",
    "\n",
    "plt.grid()\n",
    "plt.plot(x_test, y_real, label=\"Real\")\n",
    "plt.plot(x_test, y_bubnova, label=\"Bubnova\")\n",
    "plt.plot(x_test, y_kvadr, label=\"Naym. Kvadrativ\")\n",
    "plt.legend()\n",
    "plt.savefig(fname=\"{}\".format(n))\n",
    "plt.show()"
   ]
  }
 ],
 "metadata": {
  "kernelspec": {
   "display_name": "base",
   "language": "python",
   "name": "python3"
  },
  "language_info": {
   "codemirror_mode": {
    "name": "ipython",
    "version": 3
   },
   "file_extension": ".py",
   "mimetype": "text/x-python",
   "name": "python",
   "nbconvert_exporter": "python",
   "pygments_lexer": "ipython3",
   "version": "3.11.4"
  }
 },
 "nbformat": 4,
 "nbformat_minor": 2
}
